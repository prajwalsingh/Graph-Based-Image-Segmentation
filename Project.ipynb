{
 "cells": [
  {
   "cell_type": "code",
   "execution_count": 441,
   "metadata": {},
   "outputs": [],
   "source": [
    "# Here we are importing all the required libraries\n",
    "import cv2\n",
    "import numpy as np\n",
    "import sys"
   ]
  },
  {
   "cell_type": "code",
   "execution_count": 442,
   "metadata": {},
   "outputs": [],
   "source": [
    "# This class contains all the required methods\n",
    "class GraphSegmentation:\n",
    "    def __init__(self):\n",
    "        # Here we are creating a dictionary that store 1-D to 2-D index mapping\n",
    "        # ex: 0 -> (0, 0) or 12 -> (3, 4)\n",
    "        # It is helpful when we convert graph back to image\n",
    "        self.vertex_to_img = {}\n",
    "\n",
    "    def gaussian_filter(self, img, ksize, sigma):\n",
    "        # Here we are creating gaussian kernel and then using convolution to smooth out the image.\n",
    "        nimage = np.float64(img)\n",
    "        kpad = int((ksize-1)/2)\n",
    "        # Here we are creating a gaussian kernel of size (ksize x ksize)\n",
    "        kernel = np.zeros((ksize, ksize), dtype='float64')\n",
    "        # Here we are using loop to apply convolution\n",
    "        for i in range(ksize):\n",
    "            for j in range(ksize):\n",
    "                kernel[i, j] = ( 1/np.sqrt(2*np.pi*(sigma**2)) ) * np.exp(- ( ( ((i-kpad)**2) + ((j-kpad)**2) )/( 2*(sigma**2) ) ) )\n",
    "        ksum = np.sum(kernel)\n",
    "        kernel /= ksum\n",
    "        blur_image = cv2.filter2D(nimage, -1, kernel)\n",
    "        return np.uint8(blur_image)\n",
    "\n",
    "    def image_to_grid_graph(self, img):\n",
    "        # We are using this method for Image To Graph Conversion\n",
    "        img = np.int64(img)\n",
    "        height, width = img.shape\n",
    "        # This list store all the nodes and there connected neighbour node\n",
    "        G = []\n",
    "        # This list store all the edges of the graph along with their weights\n",
    "        E = []\n",
    "        # Using this loop we iterate over each pixel and convert it to a node.\n",
    "        for row in range(height):\n",
    "            for col in range(width):\n",
    "                # Here we are doing book-keeping we store each row major order index along with its 2D index\n",
    "                self.vertex_to_img[row*width+col] = (row, col)\n",
    "                # Here we are calling a method to find neighbour of any pixel\n",
    "                G, E = self.check_8_neigh(G, E, row, col, height, width, img)\n",
    "        # This method is returnig a Adjacency List Graph and Edge List Graph\n",
    "        return np.array(G), np.array(E)\n",
    "\n",
    "    def check_8_neigh(self, G, E, row, col, height, width, img):\n",
    "        # We are using this method for checking 8-neighbour connectivity\n",
    "        # 1. We check boundary conditions.\n",
    "        # 2. We calculate edge weight, which is difference between current pixel \n",
    "        #    intensity and neighbour pixel intensity\n",
    "        # 3. We add neighbour node to adjacency list along with edge weight between them\n",
    "        # 4. We add edge to Edge list.\n",
    "        # This list store all the node connected to current node\n",
    "        l = []\n",
    "        if (row-1)>=0 and (col-1)>=0:\n",
    "            w = abs(img[row, col]-img[row-1, col-1])\n",
    "            l.append([(row-1)*width+(col-1), w])\n",
    "            E.append([row*width+col , (row-1)*width+(col-1), w])\n",
    "        if (row-1)>=0:\n",
    "            w = abs(img[row, col]-img[row-1, col])\n",
    "            l.append([(row-1)*width+col, w])\n",
    "            E.append([row*width+col , (row-1)*width+col, w])\n",
    "        if (row-1)>=0 and (col+1)<width:\n",
    "            w = abs(img[row, col]-img[row-1, col+1])\n",
    "            l.append([(row-1)*width+(col+1), w])\n",
    "            E.append([row*width+col , (row-1)*width+(col+1), w])\n",
    "        if (col-1)>=0:\n",
    "            w = abs(img[row, col]-img[row, col-1])\n",
    "            l.append([row*width+(col-1), w])\n",
    "            E.append([row*width+col , row*width+(col-1), w])\n",
    "        if (col+1)<width:\n",
    "            w = abs(img[row, col]-img[row, col+1])\n",
    "            l.append([row*width+(col+1), w])\n",
    "            E.append([row*width+col , row*width+(col+1), w])\n",
    "        if (row+1)<height and (col-1)>=0:\n",
    "            w = abs(img[row, col]-img[row+1, col-1])\n",
    "            l.append([(row+1)*width+(col-1), w])\n",
    "            E.append([row*width+col , (row+1)*width+(col-1), w])\n",
    "        if (row+1)<height:\n",
    "            w = abs(img[row, col]-img[row+1, col])\n",
    "            l.append([(row+1)*width+col, w])\n",
    "            E.append([row*width+col , (row+1)*width+col, w])\n",
    "        if (row+1)<height and (col+1)<width:\n",
    "            w = abs(img[row, col]-img[row+1, col+1])\n",
    "            l.append([(row+1)*width+(col+1), w])\n",
    "            E.append([row*width+col , (row+1)*width+(col+1), w])\n",
    "        G.append(l)\n",
    "        return G, E\n",
    "\n",
    "    def find_comp(self, S, node):\n",
    "        # This method is used to find parent node of each connected component\n",
    "        # Here Path Compression algorithm is also used\n",
    "        while node!=S[node]:\n",
    "            S[node] = S[S[node]]\n",
    "            node = S[node]\n",
    "        return S, node\n",
    "    \n",
    "    def build_mst(self, G, E):\n",
    "        # We are using this method to build Minimum spanning tree using image graph\n",
    "        V =  G.shape[0]\n",
    "        # This list store parent component of each node, Parent List\n",
    "        S = []\n",
    "        # We are using this list to store rank of each component which is part of \n",
    "        # building mst algorithm, in easy words it store how many nodes are present in\n",
    "        # each connected component.\n",
    "        R = []\n",
    "        # This dictionary store minimum spanning tree build using image graph\n",
    "        MST = {}\n",
    "        # Here we are initalizing default values to each list\n",
    "        # In begning each node is parent of itself and rank of each component is zero\n",
    "        for i in range(V):\n",
    "            S.append(i)\n",
    "            R.append(0)\n",
    "        # Here we are sorting edge list based on edge weight in ascending order\n",
    "        E = sorted(E, key=lambda x: x[2], reverse=False)\n",
    "        # This dictionary store connected component\n",
    "        comp_di = {}\n",
    "        # In this loop we are iterating over each edge and building MST\n",
    "        for i,edge in enumerate(E):\n",
    "            sys.stdout.write('\\rbuilding mst : {0}%'.format(int((float(i)/len(E))*100)))\n",
    "            u, v, w = edge\n",
    "            # Here we are finding parent component of node u\n",
    "            S, c1 = self.find_comp(S, u)\n",
    "            # Here we are finding parent component of node v\n",
    "            S, c2 = self.find_comp(S, v)\n",
    "            # Here we are checking if parent component of both nodes are different or not\n",
    "            # If not that means if we add this edge it will going to form loop but that is not\n",
    "            # possible because we are building a tree and there is no loop in tree. So we are not\n",
    "            # adding that edge to connected component dictionary.\n",
    "            if c1!=c2:\n",
    "                # Here we are checking if c1 node is present in MST or not\n",
    "                if c1 in MST:\n",
    "                    MST[c1].append((c2, w))\n",
    "                else:\n",
    "                    MST[c1] = [(c2, w)]\n",
    "                # Here we are checking if c2 node is present in MST or not\n",
    "                if c2 in MST:\n",
    "                    MST[c2].append((c1, w))\n",
    "                else:\n",
    "                    MST[c2] = [(c1, w)]\n",
    "                # Here we are managing rank of the each component \n",
    "                # this part we are using to make MST building efficient.\n",
    "                if R[c2] > R[c1]:\n",
    "                    S[c2] = c1\n",
    "                elif R[c1] > R[c2]:\n",
    "                    S[c1] = c2\n",
    "                else:\n",
    "                    S[c2] = c1\n",
    "                    R[c1] += 1\n",
    "        # Here we are returning builded MST\n",
    "        return MST\n",
    "\n",
    "    def seg_alogrithm(self, G, MST, E, K):\n",
    "        # This is the method where main segmentation algorithm is implemented\n",
    "        # In this method we are passing MST, Adjacency List Graph and Edge List Graph\n",
    "        V =  G.shape[0]\n",
    "        # This list store parent component of each node, Segment Set\n",
    "        S = []\n",
    "        # We are using this list to store rank of each component which is part of \n",
    "        # building mst algorithm, in easy words it store how many nodes are present in\n",
    "        # each connected component.\n",
    "        R = []\n",
    "        # Here we are initalizing default values to each list\n",
    "        # In begning each node is parent of itself and rank of each component is zero\n",
    "        for i in range(V):\n",
    "            S.append(i)\n",
    "            R.append(0)\n",
    "        # Here we are sorting edge list based on edge weight in descending order.\n",
    "        # So that the edges with most weight present at top and it shows there is\n",
    "        # high transition between pixel intensity\n",
    "        E = sorted(E, key=lambda x: x[2], reverse=True)\n",
    "        # This dictionary store connected component\n",
    "        comp_di = {}\n",
    "        # In this loop we are iterating over each edges and building different component \n",
    "        # based on the segmentation algorithm, in the end we have a segmented image graph\n",
    "        for i,edge in enumerate(E):\n",
    "            sys.stdout.write('\\rsegmentation completed : {0}%'.format(int((float(i)/len(E))*100)))\n",
    "            u, v, w = edge\n",
    "            # Here we are finding parent component of node u\n",
    "            S, c1 = self.find_comp(S, u)\n",
    "            # Here we are finding parent component of node v\n",
    "            S, c2 = self.find_comp(S, v)\n",
    "            # Here we are checking if parent component of both nodes are different or not\n",
    "            # If not that means if we add this edge it will going to form loop but that is not\n",
    "            # possible because we are building a tree and there is no loop in tree. So we are not\n",
    "            # adding that edge to connected component dictionary.\n",
    "            if c1!=c2:\n",
    "                # Here we are adding nodes to each component\n",
    "                comp_di = self.build_comp(comp_di, c1, c2, u, v)\n",
    "                # Here we are checking if both component contain only one node\n",
    "                # then merge both to one component\n",
    "                if c1 == u and c2 == v:\n",
    "                    # Here we are using the same rank based algorithm for building\n",
    "                    # segmentation tree\n",
    "                    if R[c2] > R[c1]:\n",
    "                        S[c2] = c1\n",
    "                    elif R[c1] > R[c2]:\n",
    "                        S[c1] = c2\n",
    "                    else:\n",
    "                        S[c2] = c1\n",
    "                        R[c1] += 1\n",
    "                # If anyone or both components not contain one node then we use\n",
    "                # following algorithm based on paper\n",
    "                else:\n",
    "                    # Here we are calculating internal difference of component c1\n",
    "                    idiff_c1 = self.internal_diff(MST, comp_di[c1])\n",
    "                    # Here we are calculating internal difference of component c2\n",
    "                    idiff_c2 = self.internal_diff(MST, comp_di[c2])\n",
    "                    # Here we are calculating tou value for each component\n",
    "                    tou_c1 = K/(len(comp_di[c1])+1)\n",
    "                    tou_c2 = K/(len(comp_di[c2])+1)\n",
    "                    # Here we are finding minimum of internal differences of component\n",
    "                    mint = min(idiff_c1+tou_c1, idiff_c2+tou_c2)\n",
    "                    # Here we check that if minimum internal difference is less than current edge weight\n",
    "                    # then we merge two components because this edge contain low possibility of being border\n",
    "                    # pixel between two components.\n",
    "                    if w > mint:\n",
    "                        if R[c2] > R[c1]:\n",
    "                            # Here we are merging two components\n",
    "                            S[c2] = c1\n",
    "                        elif R[c1] > R[c2]:\n",
    "                            # Here we are merging two components\n",
    "                            S[c1] = c2\n",
    "                        else:\n",
    "                            # Here we are merging two components\n",
    "                            S[c2] = c1\n",
    "                            R[c1] += 1\n",
    "        # Here we are returning segmented image tree\n",
    "        return S\n",
    "    \n",
    "    def build_comp(self, comp_di, c1, c2, u, v):\n",
    "        # This method we are using to add nodes to component\n",
    "        # Here we are checking if node c1 present in component dictionary or not\n",
    "        if c1 in comp_di:\n",
    "            # If component present in the dictionary then we add nodes to this component\n",
    "            temp = [u] + comp_di[u] if u in comp_di else []\n",
    "            temp = list(set(temp))\n",
    "            comp_di[c1].extend(temp)\n",
    "        else:\n",
    "            # If component not present in the dictionary then we create a list and append\n",
    "            # it to the component.\n",
    "            comp_di[c1] = [u] if c1 != u else []\n",
    "        if c2 in comp_di:\n",
    "            # If component present in the dictionary then we add nodes to this component\n",
    "            temp = [v] + comp_di[v] if v in comp_di else []\n",
    "            temp = list(set(temp))\n",
    "            comp_di[c2].extend(temp)\n",
    "        else:\n",
    "            # If component not present in the dictionary then we create a list and append\n",
    "            # it to the component.\n",
    "            comp_di[c2] = [v] if c2 != v else []\n",
    "        return comp_di\n",
    "    \n",
    "    def internal_diff(self, G, C):\n",
    "        # This method we are using for calculating internal difference\n",
    "        # Internal difference is that edge present in component have minimum weight\n",
    "        # in comparision to all the other edges in component graph.\n",
    "        maxw = 10e9\n",
    "        for u in C:\n",
    "            if u in G:\n",
    "                for v in G[u]:\n",
    "                    maxw = min(v[1], maxw)\n",
    "        return maxw"
   ]
  },
  {
   "cell_type": "code",
   "execution_count": 299,
   "metadata": {},
   "outputs": [],
   "source": [
    "def get_color(col_di, node):\n",
    "    if node in col_di:\n",
    "        return col_di, col_di[node]\n",
    "    else:\n",
    "        b = np.random.randint(0, 255)\n",
    "        g = np.random.randint(0, 255)\n",
    "        r = np.random.randint(0, 255)\n",
    "        col_di[node] = (b, g, r)\n",
    "        return col_di, col_di[node]"
   ]
  },
  {
   "cell_type": "markdown",
   "metadata": {},
   "source": [
    "#### Main Method"
   ]
  },
  {
   "cell_type": "markdown",
   "metadata": {},
   "source": [
    "`Here we are creating object of GraphSegmentation class and also loading image`"
   ]
  },
  {
   "cell_type": "code",
   "execution_count": 443,
   "metadata": {},
   "outputs": [
    {
     "name": "stdout",
     "output_type": "stream",
     "text": [
      "[info] : building graph\n",
      "[info] : building graph complete\n"
     ]
    }
   ],
   "source": [
    "graph_obj = GraphSegmentation()\n",
    "# Here we are loading image in grayscale channel only\n",
    "# img = cv2.imread('data/street.png', 0)\n",
    "# img = cv2.imread('data/baseball.png', 0)\n",
    "# img = cv2.imread('data/indoor.png', 0)\n",
    "img = cv2.imread('data/paris.png', 0)\n",
    "# img = cv2.imread('data/building.png', 0)\n",
    "# img = cv2.imread('data/boy.jpg', 0)\n",
    "# img = cv2.imread('data/girl.jpg', 0)\n",
    "# img = cv2.imread('data/panda.jpg', 0)\n",
    "# img = cv2.imread('data/people.jpg', 0)\n",
    "img = cv2.resize(img, None, fx=0.7, fy=0.7)\n",
    "# Here we are applying gaussian blur to image with kernel size 3 and sigma 0.8 as per paper\n",
    "smooth_img = graph_obj.gaussian_filter(img, 3, 0.8)\n",
    "# Here we are building graph from given image\n",
    "print('[info] : building graph')\n",
    "ch1_G, ch1_E = graph_obj.image_to_grid_graph(smooth_img)\n",
    "print('[info] : building graph complete')"
   ]
  },
  {
   "cell_type": "code",
   "execution_count": 415,
   "metadata": {},
   "outputs": [],
   "source": [
    "# cv2.imshow('Image', smooth_img)\n",
    "# cv2.waitKey(0)\n",
    "# cv2.destroyAllWindows()\n",
    "# print(smooth_img.shape)"
   ]
  },
  {
   "cell_type": "markdown",
   "metadata": {},
   "source": [
    "` Here we are building mst from image graph `"
   ]
  },
  {
   "cell_type": "code",
   "execution_count": 444,
   "metadata": {},
   "outputs": [
    {
     "name": "stdout",
     "output_type": "stream",
     "text": [
      "[info] : building mst\n",
      "building mst : 99%\n",
      "[info] : building mst complete\n"
     ]
    }
   ],
   "source": [
    "print('[info] : building mst')\n",
    "MST = graph_obj.build_mst(ch1_G, ch1_E)\n",
    "print('\\n[info] : building mst complete')"
   ]
  },
  {
   "cell_type": "markdown",
   "metadata": {},
   "source": [
    "`Here we are applying segmentation algorithm on image graph`"
   ]
  },
  {
   "cell_type": "code",
   "execution_count": 445,
   "metadata": {},
   "outputs": [
    {
     "name": "stdout",
     "output_type": "stream",
     "text": [
      "[info] : applying sementation\n",
      "segmentation completed : 99%\n",
      "[info] : segmentation complete\n"
     ]
    }
   ],
   "source": [
    "print('[info] : applying sementation')\n",
    "S = graph_obj.seg_alogrithm(ch1_G, MST, ch1_E, 300)\n",
    "print('\\n[info] : segmentation complete')"
   ]
  },
  {
   "cell_type": "markdown",
   "metadata": {},
   "source": [
    "`Here we are creating a blank image to store segmented components of image`"
   ]
  },
  {
   "cell_type": "code",
   "execution_count": 446,
   "metadata": {},
   "outputs": [
    {
     "name": "stdout",
     "output_type": "stream",
     "text": [
      "(243, 324, 3)\n"
     ]
    }
   ],
   "source": [
    "seg_img = np.zeros((smooth_img.shape[0], smooth_img.shape[1], 3), dtype='uint8')\n",
    "col_di = {} # Segment Color Dictionary\n",
    "group_di = {} # Group Dictionary\n",
    "print(seg_img.shape)"
   ]
  },
  {
   "cell_type": "markdown",
   "metadata": {},
   "source": [
    "`Here we are creating a component list, so that all the nodes from same component must present in same list`"
   ]
  },
  {
   "cell_type": "code",
   "execution_count": 447,
   "metadata": {},
   "outputs": [],
   "source": [
    "for u, v in enumerate(S):\n",
    "    u_row, u_col = graph_obj.vertex_to_img[u]\n",
    "    S, par_v = graph_obj.find_comp(S, v)\n",
    "    if par_v not in group_di:\n",
    "        group_di[par_v] = [(u_row, u_col)]\n",
    "    else:\n",
    "        group_di[par_v].append((u_row, u_col))\n",
    "#     col_di, col = get_color(col_di, par_v)\n",
    "# #     col_di, col = get_color(col_di, v)\n",
    "#     seg_img[u_row, u_col, :] = col"
   ]
  },
  {
   "cell_type": "markdown",
   "metadata": {},
   "source": [
    "`Here I have use method to merge small component into one which is idea from selective search algorithm,\n",
    "here I am using node count as merging criteria. Here we are merging all those region or component which\n",
    "have number of nodes less than 5000.`\n",
    "> Modified Graph Based Segmentation"
   ]
  },
  {
   "cell_type": "code",
   "execution_count": 448,
   "metadata": {},
   "outputs": [],
   "source": [
    "color_coord_list = []\n",
    "temp_list = []\n",
    "for key in group_di:\n",
    "    if len(group_di[key]) <=5000:\n",
    "        temp_list.extend(group_di[key])\n",
    "    else:\n",
    "        color_coord_list.append(temp_list)\n",
    "        temp_list = []\n",
    "        color_coord_list.append(group_di[key])\n",
    "color_coord_list.append(temp_list)"
   ]
  },
  {
   "cell_type": "markdown",
   "metadata": {},
   "source": [
    "`Here we are assiging colors to each region or component of segmented image`"
   ]
  },
  {
   "cell_type": "code",
   "execution_count": 449,
   "metadata": {},
   "outputs": [],
   "source": [
    "for coord_list in color_coord_list:\n",
    "    b = np.random.randint(0, 255)\n",
    "    g = np.random.randint(0, 255)\n",
    "    r = np.random.randint(0, 255)\n",
    "    col = (b, g, r)\n",
    "    for item in coord_list:\n",
    "        seg_img[item[0], item[1], :] = col"
   ]
  },
  {
   "cell_type": "markdown",
   "metadata": {},
   "source": [
    "`Here we are showing segmented image output`"
   ]
  },
  {
   "cell_type": "code",
   "execution_count": 450,
   "metadata": {},
   "outputs": [],
   "source": [
    "# seg_img = cv2.cvtColor(seg_img, cv2.COLOR_BGR2GRAY)\n",
    "cv2.imwrite('output/1.jpg', seg_img)\n",
    "cv2.imshow('Seg Image', seg_img)\n",
    "cv2.waitKey(0)\n",
    "cv2.destroyAllWindows()"
   ]
  }
 ],
 "metadata": {
  "kernelspec": {
   "display_name": "Python 3",
   "language": "python",
   "name": "python3"
  },
  "language_info": {
   "codemirror_mode": {
    "name": "ipython",
    "version": 3
   },
   "file_extension": ".py",
   "mimetype": "text/x-python",
   "name": "python",
   "nbconvert_exporter": "python",
   "pygments_lexer": "ipython3",
   "version": "3.8.2"
  }
 },
 "nbformat": 4,
 "nbformat_minor": 4
}
